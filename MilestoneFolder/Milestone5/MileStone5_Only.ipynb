{
 "cells": [
  {
   "cell_type": "markdown",
   "id": "90532a6b",
   "metadata": {},
   "source": [
    "# Felipe Castillo\n",
    "# Data Preparation\n",
    "# Milestone 5\n",
    "# 03/04/2022"
   ]
  },
  {
   "cell_type": "code",
   "execution_count": 7,
   "id": "15329d79",
   "metadata": {},
   "outputs": [],
   "source": [
    "import requests\n",
    "import wikipedia as wp\n",
    "import pandas as pd\n",
    "from bs4 import BeautifulSoup\n",
    "import matplotlib.pylab as plt\n",
    "from urllib.request import urlopen\n",
    "from scipy.stats import iqr\n",
    "import numpy as np\n",
    "import json\n",
    "import os\n",
    "import time\n",
    "import re\n",
    "\n",
    "\n",
    "\n",
    "os.chdir(\"C:\\DataScience_DSC_540\\MilestoneFolder\")\n"
   ]
  },
  {
   "cell_type": "code",
   "execution_count": 11,
   "id": "b7bc56cd",
   "metadata": {},
   "outputs": [],
   "source": [
    "import sqlite3 \n",
    "import sqlalchemy as sqla"
   ]
  },
  {
   "cell_type": "code",
   "execution_count": null,
   "id": "59cae93a",
   "metadata": {},
   "outputs": [],
   "source": [
    "#wiki_df.head(4)"
   ]
  },
  {
   "cell_type": "code",
   "execution_count": null,
   "id": "ece39a31",
   "metadata": {},
   "outputs": [],
   "source": [
    "#senate_76_20_dfRowsDF.head(4)"
   ]
  },
  {
   "cell_type": "code",
   "execution_count": null,
   "id": "1c809c63",
   "metadata": {},
   "outputs": [],
   "source": [
    "#df_congress_api.head(5)"
   ]
  },
  {
   "cell_type": "code",
   "execution_count": null,
   "id": "045d49ce",
   "metadata": {},
   "outputs": [],
   "source": [
    "df_congress_api.columns"
   ]
  },
  {
   "cell_type": "code",
   "execution_count": 12,
   "id": "900c4b8e",
   "metadata": {},
   "outputs": [],
   "source": [
    "#connceting to sqlite\n",
    "#mydata.sqlite\n",
    "#making a data base \n",
    "con = sqlite3.connect(\"House_Representatives.db\")"
   ]
  },
  {
   "cell_type": "code",
   "execution_count": null,
   "id": "b139df1e",
   "metadata": {},
   "outputs": [],
   "source": [
    "con.commit()"
   ]
  },
  {
   "cell_type": "code",
   "execution_count": null,
   "id": "453a011f",
   "metadata": {},
   "outputs": [],
   "source": [
    "#making congress api table\n",
    "df_congress_api.to_sql(name='congress_api', con=con)"
   ]
  },
  {
   "cell_type": "code",
   "execution_count": null,
   "id": "0ad4177a",
   "metadata": {},
   "outputs": [],
   "source": [
    "#making sentate csv table \n",
    "senate_76_20_dfRowsDF.to_sql(name='senate_csv', con=con)"
   ]
  },
  {
   "cell_type": "code",
   "execution_count": null,
   "id": "00ac3112",
   "metadata": {},
   "outputs": [],
   "source": [
    "#making house rep wiki table\n",
    "wiki_df.to_sql(name='House_Rep_Wiki', con=con)"
   ]
  },
  {
   "cell_type": "code",
   "execution_count": null,
   "id": "163670d4",
   "metadata": {},
   "outputs": [],
   "source": [
    "#con.execute(query)"
   ]
  },
  {
   "cell_type": "code",
   "execution_count": 13,
   "id": "3e2d0b07",
   "metadata": {},
   "outputs": [],
   "source": [
    "conn = sqlite3.connect('House_Representatives.db')"
   ]
  },
  {
   "cell_type": "code",
   "execution_count": 14,
   "id": "74affaa5",
   "metadata": {},
   "outputs": [],
   "source": [
    "#establishing cursor for data base\n",
    "cursor = conn.cursor()"
   ]
  },
  {
   "cell_type": "code",
   "execution_count": 15,
   "id": "75ea143e",
   "metadata": {},
   "outputs": [
    {
     "data": {
      "text/plain": [
       "<sqlite3.Cursor at 0x18cc7eec8f0>"
      ]
     },
     "execution_count": 15,
     "metadata": {},
     "output_type": "execute_result"
    }
   ],
   "source": [
    "cursor.execute(\"SELECT name FROM sqlite_master WHERE type='table';\")"
   ]
  },
  {
   "cell_type": "code",
   "execution_count": 16,
   "id": "1828067d",
   "metadata": {},
   "outputs": [
    {
     "name": "stdout",
     "output_type": "stream",
     "text": [
      "[('congress_api',), ('senate_csv',), ('House_Rep_Wiki',)]\n"
     ]
    }
   ],
   "source": [
    "#two tables inside db\n",
    "# making sure all tables are create \n",
    "print(cursor.fetchall())"
   ]
  },
  {
   "cell_type": "code",
   "execution_count": 17,
   "id": "5cba9f17",
   "metadata": {},
   "outputs": [
    {
     "name": "stdout",
     "output_type": "stream",
     "text": [
      "\n",
      "---------DATA ROWS For API Data Set-----------:\n"
     ]
    }
   ],
   "source": [
    "#priting api table make sure it works \n",
    "print('\\n---------DATA ROWS For API Data Set-----------:')\n",
    "data=cursor.execute('''SELECT * from congress_api''')\n",
    "#for i in data:\n",
    "    #print(i)"
   ]
  },
  {
   "cell_type": "code",
   "execution_count": 18,
   "id": "ff7f9dc8",
   "metadata": {},
   "outputs": [
    {
     "name": "stdout",
     "output_type": "stream",
     "text": [
      "\n",
      "---------DATA ROWS For CSV  Data Set-----------:\n"
     ]
    }
   ],
   "source": [
    "#print senate data table\n",
    "print('\\n---------DATA ROWS For CSV  Data Set-----------:')\n",
    "data=cursor.execute('''SELECT * from senate_csv''')\n",
    "#for i in data:\n",
    " #   print(i)"
   ]
  },
  {
   "cell_type": "code",
   "execution_count": 19,
   "id": "37cbfc15",
   "metadata": {},
   "outputs": [
    {
     "name": "stdout",
     "output_type": "stream",
     "text": [
      "\n",
      "---------DATA ROWS For Website  Data Set-----------:\n"
     ]
    }
   ],
   "source": [
    "#printing wiki table \n",
    "print('\\n---------DATA ROWS For Website  Data Set-----------:')\n",
    "data=cursor.execute('''SELECT * from House_Rep_Wiki''')\n",
    "#for i in data:\n",
    "    #print(i)"
   ]
  },
  {
   "cell_type": "markdown",
   "id": "91a3b93c",
   "metadata": {},
   "source": [
    "irst graph will include data from three different data sets. The graph will take the amount of congress men mentioned in each data source. Mentioned and none mentioned will be accounted for and distributed in a pie chart. This is important to show the different people across data sets."
   ]
  },
  {
   "cell_type": "markdown",
   "id": "c8bbf681",
   "metadata": {},
   "source": [
    "Step 1: Getting data from all 3 tables"
   ]
  },
  {
   "cell_type": "code",
   "execution_count": 21,
   "id": "53c72e69",
   "metadata": {},
   "outputs": [],
   "source": [
    "#combinding all tables into one larger table\n",
    "data_combind=cursor.execute('''select candidate_name,state,total_pac_money from congress_api union all select candidate,state,state_fips from senate_csv union all select Candidate,Poli_Party, Age from House_Rep_Wiki''')"
   ]
  },
  {
   "cell_type": "markdown",
   "id": "12b7e516",
   "metadata": {},
   "source": [
    "Step 2: storing only names"
   ]
  },
  {
   "cell_type": "code",
   "execution_count": 22,
   "id": "d6f38b95",
   "metadata": {},
   "outputs": [],
   "source": [
    "#storing names\n",
    "names_combind_array = []\n",
    "\n",
    "for i in data_combind:\n",
    "    #checking that there is no numeric values in data \n",
    "    if(str(i[0]).isnumeric() == False):\n",
    "        #only allowing names to pass\n",
    "        names_combind_array.append(str(i[0]))\n",
    "        \n",
    "#print(names_combind_array)"
   ]
  },
  {
   "cell_type": "markdown",
   "id": "3ee84313",
   "metadata": {},
   "source": [
    "Step 3: Making sure names are only accounted once, if felipe then I can insert another Felipe"
   ]
  },
  {
   "cell_type": "code",
   "execution_count": 23,
   "id": "73a6fc16",
   "metadata": {},
   "outputs": [],
   "source": [
    "#making a unique reference name\n",
    "unique_names = []\n",
    "\n",
    "for name in names_combind_array:\n",
    "    #if the uniques column doesn have names\n",
    "    if name not in unique_names:\n",
    "        #append names not in unique table\n",
    "        unique_names.append(name)\n",
    "#print(unique_names)"
   ]
  },
  {
   "cell_type": "markdown",
   "id": "665ccf34",
   "metadata": {},
   "source": [
    "Step 4: Adding a count for names the appear more then once."
   ]
  },
  {
   "cell_type": "code",
   "execution_count": 24,
   "id": "9f17454e",
   "metadata": {},
   "outputs": [],
   "source": [
    "# find the names in the 3 data sources\n",
    "# this is important to see if the candiate is mentioned in all data set\n",
    "#this will be accomplish with contain\n",
    "\n",
    "#setting dic to empty \n",
    "namedic = {}\n",
    "\n",
    "# Getting uique day values\n",
    "for name in unique_names:\n",
    "    \n",
    "    #setting a current age values\n",
    "    current_name = name\n",
    "    count = 0\n",
    "    #if an occurance of the unique value add counter\n",
    "    for j in names_combind_array:\n",
    "        #Checking to is if unique value contains pointed values\n",
    "        #adding counter to time metioned\n",
    "        if(j in current_name):\n",
    "            count = count + 1\n",
    "    # Making sure there are no null values\n",
    "    if(name != ''):\n",
    "        namedic[name] = count\n",
    "        \n",
    "    \n",
    "        \n",
    "#print(namedic)\n",
    "        "
   ]
  },
  {
   "cell_type": "markdown",
   "id": "98c5064c",
   "metadata": {},
   "source": [
    "Step 5: Checking if the values in dictionary contains names and if value is greater then one. This mean the name was reapted in a different data sources."
   ]
  },
  {
   "cell_type": "code",
   "execution_count": 26,
   "id": "9ab6d554",
   "metadata": {},
   "outputs": [
    {
     "name": "stdout",
     "output_type": "stream",
     "text": [
      "{'Repeated': 189, 'Not Repeated': 776}\n"
     ]
    }
   ],
   "source": [
    "#storing repeated and not repeated balues\n",
    "names_dataset_dic ={}\n",
    "\n",
    "#iterating key and value of the names counter \n",
    "for key, value in namedic.items():\n",
    "    #if the person is mention more then 1 time it means they are share names in data sets\n",
    "    if int(value) > 1:\n",
    "        #setting a counter inside of dictionary\n",
    "        #if the value is greater then one the counter of repated increase by one\n",
    "        names_dataset_dic[\"Repeated\"] =  names_dataset_dic.get(\"Repeated\", 0) + 1\n",
    "    else:\n",
    "        #the value is not repeated the value increase by one \n",
    "         names_dataset_dic[\"Not Repeated\"] =  names_dataset_dic.get(\"Not Repeated\", 0) + 1\n",
    "        \n",
    "print(names_dataset_dic)       \n"
   ]
  },
  {
   "cell_type": "markdown",
   "id": "2bbe0d4f",
   "metadata": {},
   "source": [
    "Step 6: Plot dictionary into pie char"
   ]
  },
  {
   "cell_type": "code",
   "execution_count": 27,
   "id": "84b55bd2",
   "metadata": {},
   "outputs": [
    {
     "data": {
      "image/png": "[encoded data removed]",
      "text/plain": [
       "<Figure size 720x720 with 1 Axes>"
      ]
     },
     "metadata": {},
     "output_type": "display_data"
    }
   ],
   "source": [
    "# This means all data sets mention the congress men by name\n",
    "# This also means that a percntage have been both sentors and house of represnetatives\n",
    "labels = names_dataset_dic.keys()\n",
    "\n",
    "#setting plot figure size\n",
    "fig = plt.figure(figsize=(10,10))\n",
    "ax = fig.add_axes((0,0,.5,1))\n",
    "#setting name\n",
    "plt.title(\"Percentage of Congress Men In All Data Sets\")\n",
    "#unpacking values in pie\n",
    "ax.pie(names_dataset_dic.values(),  labels=labels, autopct='%1.1f%%',\n",
    "        shadow=True, startangle=90)\n",
    "ax.axis('equal')  \n",
    "plt.show()"
   ]
  },
  {
   "cell_type": "markdown",
   "id": "628b04a1",
   "metadata": {},
   "source": [
    "Second table will contain two different data source. This table will see if the data is objective or if it is fair to all parties. If its only democratic information, an assessment can be made for republican."
   ]
  },
  {
   "cell_type": "markdown",
   "id": "d388854f",
   "metadata": {},
   "source": [
    "Step 1: Taking data from senate csv and house wiki"
   ]
  },
  {
   "cell_type": "code",
   "execution_count": 31,
   "id": "7f4277ca",
   "metadata": {},
   "outputs": [],
   "source": [
    "\n",
    "# checking two tables that mention political parties\n",
    "#seeing if the data is objective or if its leaning towards one side over the other\n",
    "data_combind=cursor.execute('''select candidate,political_parties,state_fips from senate_csv  union all select Candidate,Poli_Party, Age from House_Rep_Wiki''')"
   ]
  },
  {
   "cell_type": "markdown",
   "id": "8f2adb58",
   "metadata": {},
   "source": [
    "Step 2: Check  and store the ammount of occurences per party. In this case we care about main parties democrat and repblican."
   ]
  },
  {
   "cell_type": "code",
   "execution_count": 32,
   "id": "791b5cb6",
   "metadata": {},
   "outputs": [],
   "source": [
    "\n",
    "#stored rublicans\n",
    "party_aff_r = []\n",
    "#store democrats\n",
    "party_aff_d = []\n",
    "\n",
    "#Two tables are combind in one\n",
    "#iterating throught tables one is lower case and the other is upper case\n",
    "for obj in data_combind:\n",
    "    #print(obj[1])\n",
    "    #checking if data is this or that\n",
    "    if(obj[1] == 'Republican' or obj[1] == 'REPUBLICAN' ):\n",
    "        #print('----r----' , obj[0])\n",
    "        #appending as r\n",
    "        party_aff_r.append('R')\n",
    "        \n",
    "    #checking if data is this or that\n",
    "    if(obj[1] == 'Democratic'or obj[1] == 'DEMOCRAT'):\n",
    "        #print('----d---',obj[0])\n",
    "        #appending d\n",
    "        party_aff_d.append('D')\n"
   ]
  },
  {
   "cell_type": "markdown",
   "id": "5c7949e5",
   "metadata": {},
   "source": [
    "Step: 3 combinded occurence into one array by count."
   ]
  },
  {
   "cell_type": "code",
   "execution_count": 33,
   "id": "38d073f6",
   "metadata": {},
   "outputs": [],
   "source": [
    "#both arrays will be combind into one \n",
    "poli_compare_list = []\n",
    "#append the aount of r in party aff r\n",
    "poli_compare_list.append(len(party_aff_r))\n",
    "#append the aount of d in party aff d\n",
    "poli_compare_list.append(len(party_aff_d))"
   ]
  },
  {
   "cell_type": "markdown",
   "id": "82c85fbe",
   "metadata": {},
   "source": [
    "Step: 4 plot bar graph."
   ]
  },
  {
   "cell_type": "code",
   "execution_count": 34,
   "id": "ffb1d440",
   "metadata": {},
   "outputs": [
    {
     "data": {
      "text/plain": [
       "<BarContainer object of 2 artists>"
      ]
     },
     "execution_count": 34,
     "metadata": {},
     "output_type": "execute_result"
    },
    {
     "data": {
      "image/png": "[encoded data removed]",
      "text/plain": [
       "<Figure size 432x288 with 1 Axes>"
      ]
     },
     "metadata": {
      "needs_background": "light"
     },
     "output_type": "display_data"
    }
   ],
   "source": [
    "#setting labels for bar graph\n",
    "labels = ['R','D']\n",
    "plt.title(\"Poltical Parties\")\n",
    "plt.xlabel(\"Poltical Affliation\")\n",
    "plt.ylabel(\"Number of Candiates\")\n",
    "\n",
    "#pushing labels and combined array\n",
    "plt.bar(labels, poli_compare_list)\n",
    "\n",
    "#looks very close but there is more republicans data "
   ]
  },
  {
   "cell_type": "markdown",
   "id": "b1bbb882",
   "metadata": {},
   "source": [
    "Table 3 only looks at congress api table to get a better understanding of political contributions."
   ]
  },
  {
   "cell_type": "markdown",
   "id": "3af5e0d2",
   "metadata": {},
   "source": [
    "Step 1: Getting and store total_contributions"
   ]
  },
  {
   "cell_type": "code",
   "execution_count": 35,
   "id": "c745bb48",
   "metadata": {},
   "outputs": [],
   "source": [
    "candidate_finance = []\n",
    "\n",
    "#taking api information total contributions\n",
    "data=cursor.execute('''SELECT candidate_name,total_contributions from congress_api''')\n",
    "for i in data:\n",
    "    #appending into and array\n",
    "    candidate_finance.append(i[1])"
   ]
  },
  {
   "cell_type": "markdown",
   "id": "4002231d",
   "metadata": {},
   "source": [
    "Step 2: Converting it into a np array for better handling"
   ]
  },
  {
   "cell_type": "code",
   "execution_count": 36,
   "id": "f9ad4c3f",
   "metadata": {},
   "outputs": [],
   "source": [
    "#converting it into a np array \n",
    "cand_finance = np.array(candidate_finance)"
   ]
  },
  {
   "cell_type": "markdown",
   "id": "2a3dab31",
   "metadata": {},
   "source": [
    "Step 3: Plot Histogram"
   ]
  },
  {
   "cell_type": "code",
   "execution_count": 37,
   "id": "38ba10f3",
   "metadata": {},
   "outputs": [
    {
     "data": {
      "image/png": "[encoded data removed]",
      "text/plain": [
       "<Figure size 432x288 with 1 Axes>"
      ]
     },
     "metadata": {
      "needs_background": "light"
     },
     "output_type": "display_data"
    }
   ],
   "source": [
    "#Made a historgram of financal cntribution for congress men \n",
    "#has an obvious outlier\n",
    "plt.title(\"Finance Contribution\")\n",
    "plt.hist(cand_finance, bins=40)  \n",
    "plt.ylabel('frequency')\n",
    "plt.xlabel('Money');"
   ]
  },
  {
   "cell_type": "markdown",
   "id": "b2a4ba06",
   "metadata": {},
   "source": [
    "The fourth table will show the total amount contribution made to each state."
   ]
  },
  {
   "cell_type": "markdown",
   "id": "7014b13c",
   "metadata": {},
   "source": [
    "Step 1: Getting congress api table."
   ]
  },
  {
   "cell_type": "code",
   "execution_count": 65,
   "id": "b50721f7",
   "metadata": {},
   "outputs": [],
   "source": [
    "#Seleting total contributions\n",
    "data=cursor.execute('''SELECT state,total_contributions from congress_api''')"
   ]
  },
  {
   "cell_type": "markdown",
   "id": "6c1a4391",
   "metadata": {},
   "source": [
    "Step 2: Storing state and contributions to its own list."
   ]
  },
  {
   "cell_type": "code",
   "execution_count": 64,
   "id": "240aba57",
   "metadata": {},
   "outputs": [],
   "source": [
    "# unpacking data into two separte list\n",
    "#x contians state, y contains total_contributions\n",
    "x,y = zip(*data)\n",
    "\n",
    "stateList = list(x)\n",
    "finList =  list(y)\n"
   ]
  },
  {
   "cell_type": "markdown",
   "id": "796117f5",
   "metadata": {},
   "source": [
    "Step: 3 Add all of the state contributions instance to one state. Example if there are 5 sentors from tx it will take their contributions and total it all to tx."
   ]
  },
  {
   "cell_type": "code",
   "execution_count": 66,
   "id": "8a7832ae",
   "metadata": {},
   "outputs": [
    {
     "name": "stdout",
     "output_type": "stream",
     "text": [
      "{'KY': 89495385.83, 'LA': 17301008.0, 'TX': 47223913.21, 'AR': 27159344.0, 'KS': 6463693.0, 'MS': 6618097.0, 'NC': 66657740.760000005, 'CA': 38912034.97, 'CO': 39721376.89, 'VA': 48977819.85, 'MA': 53322423.220000006, 'TN': 20157641.04, 'MI': 84138015.13, 'SC': 124339631.64, 'AK': 13987695.0, 'MD': 15134285.36, 'WV': 7664254.0, 'OH': 73378921.46, 'WI': 7942978.05, 'UT': 8470978.41, 'NV': 48347559.0, 'MO': 45947810.0, 'NY': 48134133.0, 'IA': 38766710.519999996, 'FL': 71356708.71000001, 'PA': 69992346.17, 'IL': 52062810.94, 'WA': 22264900.0, 'AZ': 106036647.24, 'MT': 37945745.09, 'NE': 5965810.0, 'CT': 26768720.0, 'NJ': 12677880.0, 'MN': 30415006.310000002, 'ND': 32871365.41, 'NM': 4672290.0, None: 274759008.0, 'SD': 24563752.0, 'GA': 152847864.96, 'NH': 2825880.0, 'IN': 17925880.869999997, 'AL': 3532664.0, 'OR': 10594701.84, 'WY': 5391614.77, 'ME': 25685278.84}\n"
     ]
    }
   ],
   "source": [
    "\n",
    "#will contain total fincail information for sate\n",
    "state_fin_dic ={}\n",
    "\n",
    "\n",
    "#unpacking into state and finances \n",
    "for state,finances in data:\n",
    "    #will store total finances by state\n",
    "    temp_finances = 0\n",
    "    #for each state it will look to see if state has a finacial record\n",
    "    for i in range(len(stateList)):\n",
    "        #if the same state has record \n",
    "        if(stateList[i] == state):\n",
    "            #add the last occurence of finances + the current one\n",
    "            temp_finances = temp_finances + float(finList[i])\n",
    "    #store total by state in dictionary\n",
    "    state_fin_dic[state] = temp_finances\n",
    "print(state_fin_dic)\n",
    "        \n",
    "        "
   ]
  },
  {
   "cell_type": "markdown",
   "id": "06c48bc8",
   "metadata": {},
   "source": [
    "Step 4: Plot line graph"
   ]
  },
  {
   "cell_type": "code",
   "execution_count": 67,
   "id": "acf1ab48",
   "metadata": {},
   "outputs": [
    {
     "data": {
      "text/plain": [
       "[<matplotlib.lines.Line2D at 0x18cc87dc400>]"
      ]
     },
     "execution_count": 67,
     "metadata": {},
     "output_type": "execute_result"
    },
    {
     "data": {
      "image/png": "[encoded data removed]",
      "text/plain": [
       "<Figure size 432x288 with 1 Axes>"
      ]
     },
     "metadata": {
      "needs_background": "light"
     },
     "output_type": "display_data"
    }
   ],
   "source": [
    "#setting a line graph to see total contributions comaprision \n",
    "plt.title(\"State Total Contribuation Anaylsis\")\n",
    "plt.ylabel(\"Money\")\n",
    "plt.xlabel(\"States\")\n",
    "plt.plot(list(state_fin_dic.values()))"
   ]
  },
  {
   "cell_type": "markdown",
   "id": "601d8c3e",
   "metadata": {},
   "source": [
    "Table 5 takes in one table and checks if there is an anomoly in years and total votes."
   ]
  },
  {
   "cell_type": "markdown",
   "id": "f8b5c327",
   "metadata": {},
   "source": [
    "Step 1: Take year and votes from sentate table"
   ]
  },
  {
   "cell_type": "code",
   "execution_count": 68,
   "id": "5ac4cb4b",
   "metadata": {},
   "outputs": [],
   "source": [
    "#seeing if there is an anomoly for years and candidate votes\n",
    "#perhapes some years peopple vote more then others \n",
    "data=cursor.execute('''select year,candidatevotes from senate_csv ''')"
   ]
  },
  {
   "cell_type": "markdown",
   "id": "cfb60068",
   "metadata": {},
   "source": [
    "Step 2: Unpack and plot scatter plot "
   ]
  },
  {
   "cell_type": "code",
   "execution_count": 69,
   "id": "0a7f0986",
   "metadata": {
    "scrolled": true
   },
   "outputs": [
    {
     "data": {
      "text/plain": [
       "<matplotlib.collections.PathCollection at 0x18cc8827460>"
      ]
     },
     "execution_count": 69,
     "metadata": {},
     "output_type": "execute_result"
    },
    {
     "data": {
      "image/png": "[encoded data removed]",
      "text/plain": [
       "<Figure size 432x288 with 1 Axes>"
      ]
     },
     "metadata": {
      "needs_background": "light"
     },
     "output_type": "display_data"
    }
   ],
   "source": [
    "#unpacking year, votes \n",
    "x,y = zip(*data)\n",
    "plt.title(\"Amount of Votes by Year\")\n",
    "plt.xlabel(\"Years\")\n",
    "plt.ylabel(\"Votes\")\n",
    "plt.scatter(x, y)\n"
   ]
  },
  {
   "cell_type": "markdown",
   "id": "93823460",
   "metadata": {},
   "source": [
    "# Summary"
   ]
  },
  {
   "cell_type": "markdown",
   "id": "7911b92b",
   "metadata": {},
   "source": [
    "Coming into this class, I didn’t know much about data wrangling. As a software engineer, I am responsible for data manipulation and knowing how to handle small amounts of data. However, I have never had to dig through all the data as I did at school. At the start, it was a little over whelming not knowing which graph to use or which package was best for handling issues. \n",
    "To complete my project, I had to take what I learned each week and apply it back to my milestone. The data showed that Congress gets a lot of money in contributions. Most of my questions I had were answered. There are some congress men that have been in office for longer than I have been alive. Overall, what made this project easier is that I am passionate about politics.\n",
    "\n",
    "In this class I learned to handle large amounts of data. I also learned to make sense out of the data.  I never worked with SQLite even though I work with SQL server. It was so different! I never imagined that I could run SQL without having to set up a server and the IDE. SQLite became one of my favorite methods to use SQL. I also was introduced to beautiful soup. Although, it’s not my favorite, I know how to use it. \n",
    "\n",
    "\n",
    "Honestly, the ethical implications frighten me more now. How would anyone know if I manipulated the data to my own will? When you work with data, you have power to shape it to tell a story. More than ever it’s important to be honest and to be careful when working with data. When working with a large amount of data, it is easy to lose yourself and increase the chances of errors. During this class, I read a lot about ethical issues. It doesn’t seem like a lot of companies follow them. I know that I will follow the ethics provided to me.\n",
    "\n",
    "\n",
    "Overall, I have had a blast in this class. No, I didn’t like the long homework hours just like an athlete doesn’t like training. Now, I feel like I can actually do a lot! In fact, I have been using some of the stuff I am learning in school at work. The class students were smart, and I learned a lot. I ended up coding more in this class which I am grateful. Some say school is a waste of time. Now, you can learn the same technology on Udemy for pennies on the dollar. In this case, I don’t feel like I wasted my time. It was well worth it, and I recommend it to anyone that is serious about data science.\n"
   ]
  }
 ],
 "metadata": {
  "kernelspec": {
   "display_name": "Python 3",
   "language": "python",
   "name": "python3"
  },
  "language_info": {
   "codemirror_mode": {
    "name": "ipython",
    "version": 3
   },
   "file_extension": ".py",
   "mimetype": "text/x-python",
   "name": "python",
   "nbconvert_exporter": "python",
   "pygments_lexer": "ipython3",
   "version": "3.8.8"
  }
 },
 "nbformat": 4,
 "nbformat_minor": 5
}
