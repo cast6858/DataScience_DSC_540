{
 "cells": [
  {
   "cell_type": "markdown",
   "metadata": {},
   "source": [
    "# Felipe Castillo\n",
    "# Data Preparation\n",
    "# Movie DB\n",
    "# 02/14/2022"
   ]
  },
  {
   "cell_type": "markdown",
   "metadata": {},
   "source": [
    "# Lesson 7: Advanced web scraping and data gathering\n",
    "## Activity 2: Build your own movie database by reading from an API\n",
    "### This notebook does the following\n",
    "* Retrieves and prints basic data about a movie (title entered by user) from the web (OMDB database)\n",
    "* If a poster of the movie could be found, it downloads the file and saves at a user-specified location"
   ]
  },
  {
   "cell_type": "code",
   "execution_count": 18,
   "metadata": {},
   "outputs": [],
   "source": [
    "import urllib.request, urllib.parse, urllib.error\n",
    "import json\n",
    "import os \n",
    "\n",
    "os.chdir(\"C:\\DataScience_DSC_540\\Week9_10\")"
   ]
  },
  {
   "cell_type": "markdown",
   "metadata": {},
   "source": [
    "### Load the secret API key (you have to get one from OMDB website and use that, 1000 daily limit) from a JSON file, stored in the same folder into a variable\n",
    "Hint: Use **`json.loads()`**\n",
    "\n",
    "#### Note: The following cell will not be executed in the solution notebook because the author cannot give out his private API key. \n",
    "#### Students/users/instructor will need to obtain a key and store in a JSON file. \n",
    "#### For the code's sake, we are calling this file `APIkeys.json`. But you need to store your own key in this file.\n",
    "#### An example file called `\"APIkey_Bogus_example.json\"` is given along with the notebook. Just change the code in this file and rename as `APIkeys.json`. The file name does not matter of course."
   ]
  },
  {
   "cell_type": "code",
   "execution_count": 19,
   "metadata": {},
   "outputs": [],
   "source": [
    "# Write your code here\n",
    "\n",
    "#File name moniFile contains text api\n",
    "with open('omniFile.json') as file:\n",
    "    keys = json.load(file)\n",
    "    omdbapi = keys['OMDBapi']\n",
    "    "
   ]
  },
  {
   "cell_type": "markdown",
   "metadata": {},
   "source": [
    "### The final URL to be passed should look like: http://www.omdbapi.com/?t=movie_name&apikey=secretapikey \n",
    "Do the following,\n",
    "* Assign the OMDB portal (http://www.omdbapi.com/?) as a string to a variable `serviceurl` (don't miss the `?`)\n",
    "* Create a variable `apikey` with the last portion of the URL (\"&apikey=secretapikey\"), where `secretapikey` is your own API key (an actual code)\n",
    "* The movie name portion i.e. \"t=movie_name\" will be addressed later"
   ]
  },
  {
   "cell_type": "code",
   "execution_count": 41,
   "metadata": {},
   "outputs": [
    {
     "name": "stdout",
     "output_type": "stream",
     "text": [
      "&apikey=f43047ff\n"
     ]
    }
   ],
   "source": [
    "# Write your code here\n",
    "\n",
    "\n",
    "service_url = 'http://www.omdbapi.com/?'\n",
    "api_key = '&apikey='+omdbapi\n",
    "\n",
    "\n",
    "\n",
    "#print (api_key)\n"
   ]
  },
  {
   "cell_type": "markdown",
   "metadata": {},
   "source": [
    "### Write a utility function `print_json` to print nicely the movie data from a JSON file (which we will get from the portal)\n",
    "Here are the keys of a JSON file,\n",
    "\n",
    "'Title', 'Year', 'Rated', 'Released', 'Runtime', 'Genre', 'Director', 'Writer', 'Actors', 'Plot', 'Language','Country', 'Awards', 'Ratings', 'Metascore', 'imdbRating', 'imdbVotes', 'imdbID'"
   ]
  },
  {
   "cell_type": "code",
   "execution_count": 138,
   "metadata": {},
   "outputs": [],
   "source": [
    "# Write your code here\n",
    "\n",
    "\n",
    "def print_json(jsonObject):\n",
    "    movie_title_keys = ['Title', 'Year', 'Rated', 'Released', 'Runtime', \n",
    "                 'Genre', 'Director', 'Writer', 'Actors', 'Plot', \n",
    "                 'Language','Country', 'Awards', 'Ratings', 'Metascore', \n",
    "                 'imdbRating', 'imdbVotes', 'imdbID']\n",
    "    \n",
    "    #Looking through all movie titles \n",
    "    for key in  movie_title_keys:\n",
    "        #if the item contains the key value it will print it out by key\n",
    "        if key in list(jsonObject.keys()):\n",
    "            #example out put Tile : Titanic\n",
    "            print(\"{0}: {1}\".format(key ,jsonObject[key]))\n",
    "\n",
    "\n",
    "\n",
    "\n"
   ]
  },
  {
   "cell_type": "markdown",
   "metadata": {},
   "source": [
    "### Write a utility function to download a poster of the movie based on the information from the jason dataset and save in your local folder\n",
    "\n",
    "* Use `os` module\n",
    "* The poster data is stored in the JSON key 'Poster'\n",
    "* You may want to split the name of the Poster file and extract the file extension only. Let's say the extension is ***'jpg'***.\n",
    "* Then later join this extension to the movie name and create a filename like ***movie.jpg***\n",
    "* Use the Python command `open` to open a file and write the poster data. Close the file after done.\n",
    "* This function may not return anything. It just saves the poster data as an image file."
   ]
  },
  {
   "cell_type": "code",
   "execution_count": 140,
   "metadata": {},
   "outputs": [],
   "source": [
    "# Write your code here\n",
    "\n",
    "#os already imported for directory mapping \n",
    "\n",
    "def save_poster(json_payload):\n",
    "    title = json_payload['Title']\n",
    "    poster = json_payload['Poster']\n",
    "    #Taking the last value in value after period \n",
    "    #https://m.media-amazon.com/images/M/MV5BMDdmZGU3NDQtY2E5My00ZTliLWIzOTUtMTY4ZGI1YjdiNjk3XkEyXkFqcGdeQXVyNTA4NzY1MzY@._V1_SX300.jpg\n",
    "    #takes jpeg\n",
    "    poster_extension = poster.split('.')[-1]\n",
    "    \n",
    "    poster_data = urllib.request.urlopen(poster).read()\n",
    "     \n",
    "    \n",
    "    #saving folder in current directory which is mapped to weeks9_10 folder\n",
    "    saveloc = os.getcwd()+'\\\\'+'SavedPosters'+'\\\\'\n",
    "    \n",
    "    #checking to see if folder is alreadedy created\n",
    "    if not os.path.isdir(saveloc):\n",
    "        os.mkdir(saveloc )\n",
    "        \n",
    "        \n",
    "        \n",
    "    #Saveing into the savesposter folder \n",
    "    filename=saveloc+str(title)+'.'+poster_extension\n",
    "    f=open(filename,'wb')\n",
    "    f.write(poster_data)\n",
    "    f.close()\n",
    "    \n",
    "    \n",
    "    \n",
    "    "
   ]
  },
  {
   "cell_type": "markdown",
   "metadata": {},
   "source": [
    "# Write a utility function `search_movie` to search a movie by its name, print the downloaded JSON data (use the `print_json` function for this) and save the movie poster in the local folder (use `save_poster` function for this)\n",
    "\n",
    "* Use `try-except` loop for this i.e. try to connect to the web portal, if successful proceed but if not (i.e. exception raised) then just print an error message\n",
    "* Here use the previously created variables `serviceurl` and `apikey`\n",
    "* You have to pass on a dictionary with a key `t` and the movie name as the corresponding value to `urllib.parse.urlencode()` function and then add the `serviceurl` and `apikey` to the output of the function to construct the full URL\n",
    "* This URL will be used for accessing the data\n",
    "* The JSON data has a key called `Response`. If it is `True`, that means the read was successful. Check this before processing the data. If not successful, then print the JSON key `Error`, which will contain the appropriate error message returned by the movie database."
   ]
  },
  {
   "cell_type": "code",
   "execution_count": 121,
   "metadata": {},
   "outputs": [],
   "source": [
    "# Write your code here\n",
    "\n",
    "\n",
    "\n",
    "def search_movie(title):\n",
    "    try:\n",
    "        #intailizing url\n",
    "        url = 'http://www.omdbapi.com/?t='+title+'&apikey=f43047ff'\n",
    "        print(\"Retreiving title {0}\".format(title))\n",
    "        ur_request = urllib.request.urlopen(url)\n",
    "        data = ur_request.read()\n",
    "        json_payload=json.loads(data)\n",
    "        \n",
    "        #checking that we get a response\n",
    "        \n",
    "        if json_payload['Response']=='True':\n",
    "            print(\"--------Saving {0} protocal-----\".format(title))\n",
    "            \n",
    "            #making sure value is not null\n",
    "            if json_payload['Poster'] is not None:\n",
    "                print(\"--------Title returned Value-----\")\n",
    "                print_json(json_payload)\n",
    "                \n",
    "                save_poster(json_data)\n",
    "                     \n",
    "        else:\n",
    "            print(\"Error empty value returened\")\n",
    "    \n",
    "    #catching all exceptions\n",
    "    except Exception as e:\n",
    "        print(e.args)\n",
    "\n"
   ]
  },
  {
   "cell_type": "markdown",
   "metadata": {},
   "source": [
    "### Test `search_movie` function by entering *Titanic*"
   ]
  },
  {
   "cell_type": "code",
   "execution_count": 139,
   "metadata": {},
   "outputs": [
    {
     "name": "stdout",
     "output_type": "stream",
     "text": [
      "Retreiving title Titanic\n",
      "--------Saving Titanic protocal-----\n",
      "--------Title returned Value-----\n",
      "Title: Titanic\n",
      "Year: 1997\n",
      "Rated: PG-13\n",
      "Released: 19 Dec 1997\n",
      "Runtime: 194 min\n",
      "Genre: Drama, Romance\n",
      "Director: James Cameron\n",
      "Writer: James Cameron\n",
      "Actors: Leonardo DiCaprio, Kate Winslet, Billy Zane\n",
      "Plot: A seventeen-year-old aristocrat falls in love with a kind but poor artist aboard the luxurious, ill-fated R.M.S. Titanic.\n",
      "Language: English, Swedish, Italian, French\n",
      "Country: United States, Mexico\n",
      "Awards: Won 11 Oscars. 125 wins & 83 nominations total\n",
      "Ratings: [{'Source': 'Internet Movie Database', 'Value': '7.8/10'}, {'Source': 'Rotten Tomatoes', 'Value': '89%'}, {'Source': 'Metacritic', 'Value': '75/100'}]\n",
      "Metascore: 75\n",
      "imdbRating: 7.8\n",
      "imdbVotes: 1,117,107\n",
      "imdbID: tt0120338\n"
     ]
    }
   ],
   "source": [
    "# Write your code here\n",
    "\n",
    "search_movie(\"Titanic\")"
   ]
  },
  {
   "cell_type": "markdown",
   "metadata": {},
   "source": [
    "### Test `search_movie` function by entering \"*Random_error*\" (obviously this will not be found and you should be able to check whether your error catching code is working properly)"
   ]
  },
  {
   "cell_type": "code",
   "execution_count": 108,
   "metadata": {},
   "outputs": [
    {
     "name": "stdout",
     "output_type": "stream",
     "text": [
      "Retreiving title Random_error\n",
      "Error empty value recieved\n"
     ]
    }
   ],
   "source": [
    "# Write your code here\n",
    "\n",
    "search_movie(\"Random_error\")"
   ]
  },
  {
   "cell_type": "markdown",
   "metadata": {},
   "source": [
    "### Look for a folder called 'Posters' in the same directory you are working in. It should contain a file called 'Titanic.jpg'. Open and see if the poster came alright!"
   ]
  }
 ],
 "metadata": {
  "kernelspec": {
   "display_name": "Python 3",
   "language": "python",
   "name": "python3"
  },
  "language_info": {
   "codemirror_mode": {
    "name": "ipython",
    "version": 3
   },
   "file_extension": ".py",
   "mimetype": "text/x-python",
   "name": "python",
   "nbconvert_exporter": "python",
   "pygments_lexer": "ipython3",
   "version": "3.8.8"
  },
  "latex_envs": {
   "LaTeX_envs_menu_present": true,
   "autoclose": false,
   "autocomplete": true,
   "bibliofile": "biblio.bib",
   "cite_by": "apalike",
   "current_citInitial": 1,
   "eqLabelWithNumbers": true,
   "eqNumInitial": 1,
   "hotkeys": {
    "equation": "Ctrl-E",
    "itemize": "Ctrl-I"
   },
   "labels_anchors": false,
   "latex_user_defs": false,
   "report_style_numbering": false,
   "user_envs_cfg": false
  }
 },
 "nbformat": 4,
 "nbformat_minor": 2
}
