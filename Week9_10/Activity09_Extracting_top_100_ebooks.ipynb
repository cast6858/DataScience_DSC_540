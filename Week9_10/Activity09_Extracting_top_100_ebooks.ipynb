{
 "cells": [
  {
   "cell_type": "markdown",
   "metadata": {},
   "source": [
    "# Felipe Castillo\n",
    "# Activity 9\n",
    "# Data Preparation \n",
    "# 2/13/2022"
   ]
  },
  {
   "cell_type": "markdown",
   "metadata": {},
   "source": [
    "# Lesson 7 Activity 1: Top 100 ebooks' name extraction from Gutenberg.org\n",
    "\n",
    "## What is Project Gutenberg? - \n",
    "Project Gutenberg is a volunteer effort to digitize and archive cultural works, to \"encourage the creation and distribution of eBooks\". It was founded in 1971 by American writer Michael S. Hart and is the **oldest digital library.** This longest-established ebook project releases books that entered the public domain, and can be freely read or downloaded in various electronic formats.\n",
    "\n",
    "## What is this activity all about?\n",
    "* **This activity aims to scrape the url of the Project Gutenberg's Top 100 ebooks (yesterday's ranking) for identifying the ebook links. **\n",
    "* **It uses BeautifulSoup4 for parsing the HTML and regular expression code for identifying the Top 100 ebook file numbers.**\n",
    "* **You can use those book ID numbers to download the book into your local drive if you want**"
   ]
  },
  {
   "cell_type": "markdown",
   "metadata": {},
   "source": [
    "### Import necessary libraries including regex, and beautifulsoup"
   ]
  },
  {
   "cell_type": "code",
   "execution_count": 1,
   "metadata": {},
   "outputs": [],
   "source": [
    "import urllib.request, urllib.parse, urllib.error\n",
    "import requests\n",
    "from bs4 import BeautifulSoup\n",
    "import ssl\n",
    "import re"
   ]
  },
  {
   "cell_type": "markdown",
   "metadata": {},
   "source": [
    "### Ignore SSL errors (this code will be given)"
   ]
  },
  {
   "cell_type": "code",
   "execution_count": 2,
   "metadata": {},
   "outputs": [],
   "source": [
    "# Ignore SSL certificate errors\n",
    "ctx = ssl.create_default_context()\n",
    "ctx.check_hostname = False\n",
    "ctx.verify_mode = ssl.CERT_NONE"
   ]
  },
  {
   "cell_type": "markdown",
   "metadata": {},
   "source": [
    "### Read the HTML from the URL"
   ]
  },
  {
   "cell_type": "code",
   "execution_count": 5,
   "metadata": {},
   "outputs": [
    {
     "name": "stdout",
     "output_type": "stream",
     "text": [
      "<Response [200]>\n"
     ]
    }
   ],
   "source": [
    "# Write your code here\n",
    "GutenbergUrl = \"https://www.gutenberg.org/browse/scores/top\"\n",
    "response = requests.get(GutenbergUrl)\n",
    "\n",
    "print(response)"
   ]
  },
  {
   "cell_type": "markdown",
   "metadata": {},
   "source": [
    "### Write a small function to check the status of web request"
   ]
  },
  {
   "cell_type": "code",
   "execution_count": 26,
   "metadata": {},
   "outputs": [],
   "source": [
    "# Write your function here\n",
    "\n",
    "def response_validation(resp):\n",
    "    if(resp.status_code == 200):\n",
    "        return True \n",
    "    else:\n",
    "        print(\"Error Log:\" + str(response))\n",
    "        return False\n",
    "        \n",
    "    "
   ]
  },
  {
   "cell_type": "code",
   "execution_count": 27,
   "metadata": {},
   "outputs": [
    {
     "name": "stdout",
     "output_type": "stream",
     "text": [
      "Response connected correctly: True\n"
     ]
    }
   ],
   "source": [
    "# Write your code here to check status\n",
    "\n",
    "response_bool = response_validation(response)\n",
    "print(\"Response connected correctly: \" + str(response_bool))"
   ]
  },
  {
   "cell_type": "markdown",
   "metadata": {},
   "source": [
    "### Decode the response and pass on to `BeautifulSoup` for HTML parsing"
   ]
  },
  {
   "cell_type": "code",
   "execution_count": 29,
   "metadata": {},
   "outputs": [],
   "source": [
    "# Write your code here (decode)\n",
    "contents = response.content.decode(response.encoding)"
   ]
  },
  {
   "cell_type": "code",
   "execution_count": 31,
   "metadata": {},
   "outputs": [
    {
     "name": "stdout",
     "output_type": "stream",
     "text": [
      "<class 'str'>\n"
     ]
    }
   ],
   "source": [
    "# Write your code here (pass on to BS)\n",
    "\n",
    "soup = BeautifulSoup(contents, 'html.parser')\n",
    "\n",
    "print(type(soup.text))"
   ]
  },
  {
   "cell_type": "markdown",
   "metadata": {},
   "source": [
    "### Find all the _href_ tags and store them in the list of links. Check how the list looks like - print first 30 elements"
   ]
  },
  {
   "cell_type": "code",
   "execution_count": 115,
   "metadata": {},
   "outputs": [],
   "source": [
    "# Write your code here\n",
    "\n",
    "link_list_href = []"
   ]
  },
  {
   "cell_type": "code",
   "execution_count": 121,
   "metadata": {},
   "outputs": [],
   "source": [
    "# Write your code here (print the list)\n",
    "\n",
    "\n",
    "# Object exists inside of a under ordered list mapping the top 100 books\n",
    "source_names = soup.find_all('ol')[0]\n",
    "\n",
    "#Going through each returned tag\n",
    "for books in source_names:\n",
    "    #settting a tempValue to store the anchor\n",
    "    tempValue = books.find('a')\n",
    "    #For some werid reseason, during run time a -1(none value) is mapped \n",
    "    #Making only object with ebooks to be stored in array\n",
    "    if not (tempValue == -1):\n",
    "        #appending books \n",
    "        link_list_href.append(tempValue.get('href'))\n",
    "        \n",
    "        \n",
    "\n",
    "\n",
    "\n",
    "    \n"
   ]
  },
  {
   "cell_type": "code",
   "execution_count": 122,
   "metadata": {},
   "outputs": [
    {
     "data": {
      "text/plain": [
       "['/ebooks/1342',\n",
       " '/ebooks/84',\n",
       " '/ebooks/1661',\n",
       " '/ebooks/11',\n",
       " '/ebooks/64317',\n",
       " '/ebooks/2701',\n",
       " '/ebooks/4300',\n",
       " '/ebooks/174',\n",
       " '/ebooks/98',\n",
       " '/ebooks/345',\n",
       " '/ebooks/2591',\n",
       " '/ebooks/1232',\n",
       " '/ebooks/67379',\n",
       " '/ebooks/1952',\n",
       " '/ebooks/67383',\n",
       " '/ebooks/219',\n",
       " '/ebooks/67378',\n",
       " '/ebooks/1400',\n",
       " '/ebooks/1260',\n",
       " '/ebooks/2554',\n",
       " '/ebooks/1080',\n",
       " '/ebooks/5200',\n",
       " '/ebooks/2542',\n",
       " '/ebooks/67380',\n",
       " '/ebooks/67376',\n",
       " '/ebooks/76',\n",
       " '/ebooks/25344',\n",
       " '/ebooks/6130',\n",
       " '/ebooks/43',\n",
       " '/ebooks/46']"
      ]
     },
     "execution_count": 122,
     "metadata": {},
     "output_type": "execute_result"
    }
   ],
   "source": [
    "link_list_href[:30]"
   ]
  },
  {
   "cell_type": "markdown",
   "metadata": {},
   "source": [
    "### Use regular expression to find the numeric digits in these links. <br>These are the file number for the Top 100 books."
   ]
  },
  {
   "cell_type": "markdown",
   "metadata": {},
   "source": [
    "#### Initialize empty list to hold the file numbers"
   ]
  },
  {
   "cell_type": "code",
   "execution_count": 143,
   "metadata": {},
   "outputs": [],
   "source": [
    "# Write your code here\n",
    "file_number_list = []"
   ]
  },
  {
   "cell_type": "markdown",
   "metadata": {},
   "source": [
    "* Number 19 to 118 in the original list of links have the Top 100 ebooks' number. \n",
    "* Loop over appropriate range and use regex to find the numeric digits in the link (href) string.\n",
    "* Hint: Use `findall()` method"
   ]
  },
  {
   "cell_type": "code",
   "execution_count": 144,
   "metadata": {},
   "outputs": [],
   "source": [
    "# Write your code here\n",
    "\n",
    "for i in range(19, 118):\n",
    "    #passing value of inside regex\n",
    "    number = re.findall('[0-9]+', link_list_href[i])\n",
    "    #if the value is greater the zero a number was returned\n",
    "    if len(number) > 0:\n",
    "        #some numbers are index inside array \n",
    "        file_number_list.append(number[0])\n",
    "    else:\n",
    "        print(\"No number in \" + number)\n",
    "    \n",
    "    \n",
    "\n"
   ]
  },
  {
   "cell_type": "markdown",
   "metadata": {},
   "source": [
    "#### Print the file numbers"
   ]
  },
  {
   "cell_type": "code",
   "execution_count": 145,
   "metadata": {},
   "outputs": [
    {
     "name": "stdout",
     "output_type": "stream",
     "text": [
      "['2554', '1080', '5200', '2542', '67380', '67376', '76', '25344', '6130', '43', '46', '1184', '2600', '67373', '514', '45', '408', '28054', '67377', '844', '205', '36853', '67384', '67375', '5740', '3207', '30254', '31284', '1228', '55', '58585', '135', '120', '32449', '1399', '1727', '103', '74', '161', '4363', '16', '3600', '521', '996', '41', '35', '203', '23', '26184', '863', '20203', '67386', '158', '1497', '768', '27827', '2148', '600', '1998', '2814', '7370', '15399', '244', '67098', '3296', '36', '829', '8800', '730', '31516', '113', '160', '43453', '63256', '2852', '541', '1934', '67368', '236', '140', '10', '1342', '84', '1661', '11', '64317', '2701', '4300', '174', '98', '345', '2591', '1232', '67379', '1952', '67383', '219', '67378', '1400']\n"
     ]
    }
   ],
   "source": [
    "# Write your code here\n",
    "print(file_number_list)"
   ]
  },
  {
   "cell_type": "markdown",
   "metadata": {},
   "source": [
    "### How does the `soup` object's text look like? Use `.text()` method and print only first 2000 characters (i.e. do not print the whole thing, it is long).\n",
    "\n",
    "You will notice lot of empty spaces/blanks here and there. Ignore them. They are part of HTML page markup and its whimsical nature!"
   ]
  },
  {
   "cell_type": "code",
   "execution_count": 147,
   "metadata": {
    "scrolled": true
   },
   "outputs": [
    {
     "name": "stdout",
     "output_type": "stream",
     "text": [
      "\n",
      "\n",
      "\n",
      "\n",
      "Top 100 | Project Gutenberg\n",
      "\n",
      "\n",
      "\n",
      "\n",
      "\n",
      "\n",
      "\n",
      "\n",
      "\n",
      "\n",
      "\n",
      "\n",
      "\n",
      "\n",
      "\n",
      "\n",
      "\n",
      "\n",
      "\n",
      "\n",
      "\n",
      "\n",
      "\n",
      "\n",
      "\n",
      "\n",
      "\n",
      "Menu▾\n",
      "\n",
      "\n",
      "\n",
      "About\n",
      "          ▾\n",
      "\n",
      "▾\n",
      "\n",
      "\n",
      "About Project Gutenberg\n",
      "Collection Development\n",
      "Contact Us\n",
      "History & Philosophy\n",
      "Permissions & License\n",
      "Privacy Policy\n",
      "Terms of Use\n",
      "\n",
      "\n",
      "\n",
      "Search and Browse\n",
      "      \t  ▾\n",
      "\n",
      "▾\n",
      "\n",
      "\n",
      "Book Search\n",
      "Bookshelves\n",
      "Frequently Downloaded\n",
      "Offline Catalogs\n",
      "\n",
      "\n",
      "\n",
      "Help\n",
      "          ▾\n",
      "\n",
      "▾\n",
      "\n",
      "\n",
      "All help topics →\n",
      "Copyright Procedures\n",
      "Errata, Fixes and Bug Reports\n",
      "File Formats\n",
      "Frequently Asked Questions\n",
      "Policies →\n",
      "Public Domain eBook Submission\n",
      "Submitting Your Own Work\n",
      "Tablets, Phones and eReaders\n",
      "The Attic →\n",
      "\n",
      "\n",
      "Donate\n",
      "\n",
      "\n",
      "\n",
      "\n",
      "\n",
      "\n",
      "\n",
      "\n",
      "\n",
      "\n",
      "Donation\n",
      "\n",
      "\n",
      "\n",
      "\n",
      "\n",
      "\n",
      "\n",
      "Frequently Viewed or Downloaded\n",
      "These listings are based on the number of times each eBook gets downloaded.\n",
      "      Multiple downloads from the same Internet address on the same day count as one download, and addresses that download more than 100 eBooks in a day are considered robots and are not counted.\n",
      "\n",
      "Downloaded Books\n",
      "2022-02-12114111\n",
      "last 7 days961212\n",
      "last 30 days4514380\n",
      "\n",
      "\n",
      "\n",
      "Top 100 EBooks yesterday\n",
      "Top 100 Authors yesterday\n",
      "Top 100 EBooks last 7 days\n",
      "Top 100 Authors last 7 days\n",
      "Top 100 EBooks last 30 days\n",
      "Top 100 Authors last 30 days\n",
      "\n",
      "\n",
      "Top 100 EBooks yesterday\n",
      "\n",
      "Pride and Prejudice by Jane Austen (1049)\n",
      "Frankenstein; Or, The Modern Prometheus by Mary Wollstonecraft Shelley (884)\n",
      "The Adventures of Sherlock Holmes by Arthur Conan Doyle (600)\n",
      "Alice's Adventures in Wonderland by Lewis Carroll (578)\n",
      "The Great Gatsby by F. Scott  Fitzgerald (519)\n",
      "Moby Dick; Or, The Whale by Herman Melville (421)\n",
      "Ulysses by James Joyce (396)\n",
      "The Picture of Dorian Gray by Oscar Wilde (394)\n",
      "A Tale of Two Cities by Charles Dickens (390)\n",
      "Dracula by Bram Stoker (372)\n",
      "Grimms' Fairy Tales by Jacob Grimm and Wilhelm Grimm (332)\n",
      "The Prince by Niccolò Machiavelli (331)\n",
      "A Cyclopædia of Sacred Poetical Quotations: Consisting of Choice Passages from the Sacred Poetry of (327)\n",
      "The Yellow Wallpaper by Charlotte Perkins Gilman (308)\n",
      "Little Foxes by Harriet Beecher Stowe (304)\n",
      "Heart of Darkness by Joseph Conrad (303)\n",
      "J\n"
     ]
    }
   ],
   "source": [
    "# Write your code here\n",
    "print(soup.text[:2000])"
   ]
  },
  {
   "cell_type": "markdown",
   "metadata": {},
   "source": [
    "### Search in the extracted text (using regular expression) from the `soup` object to find the names of top 100 Ebooks (Yesterday's rank)"
   ]
  },
  {
   "cell_type": "code",
   "execution_count": 170,
   "metadata": {},
   "outputs": [],
   "source": [
    "# Temp empty list of Ebook names\n",
    "# Write your code here\n",
    "ebook_names_list = []"
   ]
  },
  {
   "cell_type": "markdown",
   "metadata": {},
   "source": [
    "#### Create a starting index. It should point at the text _\"Top 100 Ebooks yesterday\"_. Hint: Use `splitlines()` method of the `soup.text`. It splits the lines of the text of the `soup` object."
   ]
  },
  {
   "cell_type": "code",
   "execution_count": 155,
   "metadata": {},
   "outputs": [
    {
     "name": "stdout",
     "output_type": "stream",
     "text": [
      "113\n"
     ]
    }
   ],
   "source": [
    "# Write your code here\n",
    "\n",
    "top_ebooks_start =soup.text.splitlines().index('Top 100 EBooks yesterday')\n",
    "print(top_ebooks_yesterday)"
   ]
  },
  {
   "cell_type": "markdown",
   "metadata": {},
   "source": [
    "#### Loop 1-100 to add the strings of next 100 lines to this temporary list. Hint: `splitlines()` method"
   ]
  },
  {
   "cell_type": "code",
   "execution_count": 174,
   "metadata": {},
   "outputs": [],
   "source": [
    "# Write your code here\n",
    "\n",
    "for i in range( 1, 100):\n",
    "    #soup.text.splitlines()[top_ebooks_start]\n",
    "    ebook_names_list.append(soup.text.splitlines()[top_ebooks_start + 9 + i])\n",
    "    \n",
    "    "
   ]
  },
  {
   "cell_type": "code",
   "execution_count": 175,
   "metadata": {
    "scrolled": true
   },
   "outputs": [
    {
     "name": "stdout",
     "output_type": "stream",
     "text": [
      "['The Jungle by Upton Sinclair (110)', 'Pride and Prejudice by Jane Austen (1049)', 'Frankenstein; Or, The Modern Prometheus by Mary Wollstonecraft Shelley (884)', 'The Adventures of Sherlock Holmes by Arthur Conan Doyle (600)', \"Alice's Adventures in Wonderland by Lewis Carroll (578)\", 'The Great Gatsby by F. Scott  Fitzgerald (519)', 'Moby Dick; Or, The Whale by Herman Melville (421)', 'Ulysses by James Joyce (396)', 'The Picture of Dorian Gray by Oscar Wilde (394)', 'A Tale of Two Cities by Charles Dickens (390)', 'Dracula by Bram Stoker (372)', \"Grimms' Fairy Tales by Jacob Grimm and Wilhelm Grimm (332)\", 'The Prince by Niccolò Machiavelli (331)', 'A Cyclopædia of Sacred Poetical Quotations: Consisting of Choice Passages from the Sacred Poetry of (327)', 'The Yellow Wallpaper by Charlotte Perkins Gilman (308)', 'Little Foxes by Harriet Beecher Stowe (304)', 'Heart of Darkness by Joseph Conrad (303)', 'John Solomon—Supercargo by Allan Hawkwood (296)', 'Great Expectations by Charles Dickens (280)', 'Jane Eyre: An Autobiography by Charlotte Brontë (274)', 'Crime and Punishment by Fyodor Dostoyevsky (266)', 'A Modest Proposal by Jonathan Swift (259)', 'Metamorphosis by Franz Kafka (251)', \"A Doll's House : a play by Henrik Ibsen (251)\", 'Fame and Fortune Weekly, No. 1, October 6, 1905: A Lucky Deal; or The Cutest Boy in Wall Street (249)', \"That's Not Love by Elisabeth Sanxay Holding (244)\", 'Adventures of Huckleberry Finn by Mark Twain (242)', 'The Scarlet Letter by Nathaniel Hawthorne (241)', 'The Iliad by Homer (241)', 'The Strange Case of Dr. Jekyll and Mr. Hyde by Robert Louis Stevenson (239)', 'A Christmas Carol in Prose; Being a Ghost Story of Christmas by Charles Dickens (238)', 'The Count of Monte Cristo, Illustrated by Alexandre Dumas (237)', 'War and Peace by graf Leo Tolstoy (230)', 'The Worst Joke in the World by Elisabeth Sanxay Holding (224)', 'Little Women by Louisa May Alcott (223)', 'Anne of Green Gables by L. M.  Montgomery (222)', 'The Souls of Black Folk by W. E. B.  Du Bois (222)', 'The Brothers Karamazov by Fyodor Dostoyevsky (219)', 'White Mountain Trails: Tales of the Trails to the Summit of Mount Washington and other Summits of th (216)', 'The Importance of Being Earnest: A Trivial Comedy for Serious People by Oscar Wilde (214)', 'Walden, and On The Duty Of Civil Disobedience by Henry David Thoreau (211)', 'A Very Naughty Girl by L. T. Meade (208)', 'Puella mea by E. E.  Cummings (207)', \"Jackson's Gymnastics for the Fingers and Wrist: being a system of gymnastics, based on anatomical pr (205)\", 'Tractatus Logico-Philosophicus by Ludwig Wittgenstein (192)', 'Leviathan by Thomas Hobbes (190)', 'The Romance of Lust: A classic Victorian erotic novel by Anonymous (187)', 'Josefine Mutzenbacher by Felix Salten (185)', 'On the Origin of Species By Means of Natural Selection by Charles Darwin (181)', 'The Wonderful Wizard of Oz by L. Frank  Baum (178)', 'The Prophet by Kahlil Gibran (175)', 'Les Misérables by Victor Hugo (174)', 'Treasure Island by Robert Louis Stevenson (173)', 'Japanese Girls and Women by Alice Mabel Bacon (173)', 'Anna Karenina by graf Leo Tolstoy (172)', 'The Odyssey by Homer (171)', 'Around the World in Eighty Days by Jules Verne (171)', 'The Adventures of Tom Sawyer, Complete by Mark Twain (167)', 'Sense and Sensibility by Jane Austen (164)', 'Beyond Good and Evil by Friedrich Wilhelm Nietzsche (164)', 'Peter Pan by J. M.  Barrie (163)', 'Essays of Michel de Montaigne — Complete by Michel de Montaigne (160)', 'The Life and Adventures of Robinson Crusoe by Daniel Defoe (160)', 'Don Quixote by Miguel de Cervantes Saavedra (158)', 'The Legend of Sleepy Hollow by Washington Irving (157)', 'The Time Machine by H. G.  Wells (156)', \"Uncle Tom's Cabin by Harriet Beecher Stowe (154)\", 'Narrative of the Life of Frederick Douglass, an American Slave by Frederick Douglass (154)', 'Simple Sabotage Field Manual by United States. Office of Strategic Services (153)', 'The Mysterious Affair at Styles by Agatha Christie (153)', 'Autobiography of Benjamin Franklin by Benjamin Franklin (153)', 'A Preliminary Dissertation on the Mechanisms of the Heavens by Mary Somerville (152)', 'Emma by Jane Austen (150)', 'The Republic by Plato (149)', 'Wuthering Heights by Emily Brontë (149)', 'The Kama Sutra of Vatsyayana by Vatsyayana (145)', 'The Works of Edgar Allan Poe — Volume 2 by Edgar Allan Poe (143)', 'Notes from the Underground by Fyodor Dostoyevsky (142)', 'Thus Spake Zarathustra: A Book for All and None by Friedrich Wilhelm Nietzsche (137)', 'Dubliners by James Joyce (136)', 'Second Treatise of Government by John Locke (132)', 'The Interesting Narrative of the Life of Olaudah Equiano, Or Gustavus Vassa, The African by Equiano (125)', 'A Study in Scarlet by Arthur Conan Doyle (125)', 'Winnie-the-Pooh by A. A.  Milne (125)', 'The Confessions of St. Augustine by Bishop of Hippo Saint Augustine (124)', 'The War of the Worlds by H. G.  Wells (124)', \"Gulliver's Travels into Several Remote Nations of the World by Jonathan Swift (124)\", 'An Index of The Divine Comedy by Dante by Dante Alighieri (123)', 'Oliver Twist by Charles Dickens (123)', 'The Eyes Have It by Philip K. Dick (123)', 'The Secret Garden by Frances Hodgson Burnett (121)', 'The Awakening, and Selected Short Stories by Kate Chopin (121)', 'A Pickle for the Knowing Ones by Timothy Dexter (120)', 'The American Diary of a Japanese Girl by Yoné Noguchi (119)', 'The Hound of the Baskervilles by Arthur Conan Doyle (118)', 'The Age of Innocence by Edith Wharton (117)', 'Songs of Innocence and of Experience by William Blake (115)', 'Sam in the Suburbs by P. G.  Wodehouse (114)', 'The Jungle Book by Rudyard Kipling (110)', 'The Jungle by Upton Sinclair (110)']\n"
     ]
    }
   ],
   "source": [
    "print(ebook_names_list)"
   ]
  },
  {
   "cell_type": "markdown",
   "metadata": {},
   "source": [
    "#### Use regular expression to extract only text from the name strings and append to an empty list\n",
    "* Hint: Use `match` and `span` to find indices and use them"
   ]
  },
  {
   "cell_type": "code",
   "execution_count": 234,
   "metadata": {},
   "outputs": [],
   "source": [
    "list_titles_list = []"
   ]
  },
  {
   "cell_type": "code",
   "execution_count": 240,
   "metadata": {},
   "outputs": [],
   "source": [
    "# Write your code here\n",
    "\n",
    "#lst_titles=[]\n",
    "for i in range(100):\n",
    "    #pakcing regex span\n",
    "    id1,id2=re.match('[a-zA-Z ]*',ebook_names_list[i]).span()\n",
    "    list_titles_list.append(ebook_names_list[i][id1:id2])\n",
    "    \n",
    "\n"
   ]
  },
  {
   "cell_type": "markdown",
   "metadata": {},
   "source": [
    "#### Print the list of titles"
   ]
  },
  {
   "cell_type": "code",
   "execution_count": 239,
   "metadata": {},
   "outputs": [
    {
     "name": "stdout",
     "output_type": "stream",
     "text": [
      "The Jungle by Upton Sinclair \n",
      "Pride and Prejudice by Jane Austen \n",
      "Frankenstein\n",
      "The Adventures of Sherlock Holmes by Arthur Conan Doyle \n",
      "Alice\n",
      "The Great Gatsby by F\n",
      "Moby Dick\n",
      "Ulysses by James Joyce \n",
      "The Picture of Dorian Gray by Oscar Wilde \n",
      "A Tale of Two Cities by Charles Dickens \n",
      "Dracula by Bram Stoker \n",
      "Grimms\n",
      "The Prince by Niccol\n",
      "A Cyclop\n",
      "The Yellow Wallpaper by Charlotte Perkins Gilman \n",
      "Little Foxes by Harriet Beecher Stowe \n",
      "Heart of Darkness by Joseph Conrad \n",
      "John Solomon\n",
      "Great Expectations by Charles Dickens \n",
      "Jane Eyre\n",
      "Crime and Punishment by Fyodor Dostoyevsky \n",
      "A Modest Proposal by Jonathan Swift \n",
      "Metamorphosis by Franz Kafka \n",
      "A Doll\n",
      "Fame and Fortune Weekly\n",
      "That\n",
      "Adventures of Huckleberry Finn by Mark Twain \n",
      "The Scarlet Letter by Nathaniel Hawthorne \n",
      "The Iliad by Homer \n",
      "The Strange Case of Dr\n",
      "A Christmas Carol in Prose\n",
      "The Count of Monte Cristo\n",
      "War and Peace by graf Leo Tolstoy \n",
      "The Worst Joke in the World by Elisabeth Sanxay Holding \n",
      "Little Women by Louisa May Alcott \n",
      "Anne of Green Gables by L\n",
      "The Souls of Black Folk by W\n",
      "The Brothers Karamazov by Fyodor Dostoyevsky \n",
      "White Mountain Trails\n",
      "The Importance of Being Earnest\n",
      "Walden\n",
      "A Very Naughty Girl by L\n",
      "Puella mea by E\n",
      "Jackson\n",
      "Tractatus Logico\n",
      "Leviathan by Thomas Hobbes \n",
      "The Romance of Lust\n",
      "Josefine Mutzenbacher by Felix Salten \n",
      "On the Origin of Species By Means of Natural Selection by Charles Darwin \n",
      "The Wonderful Wizard of Oz by L\n",
      "The Prophet by Kahlil Gibran \n",
      "Les Mis\n",
      "Treasure Island by Robert Louis Stevenson \n",
      "Japanese Girls and Women by Alice Mabel Bacon \n",
      "Anna Karenina by graf Leo Tolstoy \n",
      "The Odyssey by Homer \n",
      "Around the World in Eighty Days by Jules Verne \n",
      "The Adventures of Tom Sawyer\n",
      "Sense and Sensibility by Jane Austen \n",
      "Beyond Good and Evil by Friedrich Wilhelm Nietzsche \n",
      "Peter Pan by J\n",
      "Essays of Michel de Montaigne \n",
      "The Life and Adventures of Robinson Crusoe by Daniel Defoe \n",
      "Don Quixote by Miguel de Cervantes Saavedra \n",
      "The Legend of Sleepy Hollow by Washington Irving \n",
      "The Time Machine by H\n",
      "Uncle Tom\n",
      "Narrative of the Life of Frederick Douglass\n",
      "Simple Sabotage Field Manual by United States\n",
      "The Mysterious Affair at Styles by Agatha Christie \n",
      "Autobiography of Benjamin Franklin by Benjamin Franklin \n",
      "A Preliminary Dissertation on the Mechanisms of the Heavens by Mary Somerville \n",
      "Emma by Jane Austen \n",
      "The Republic by Plato \n",
      "Wuthering Heights by Emily Bront\n",
      "The Kama Sutra of Vatsyayana by Vatsyayana \n",
      "The Works of Edgar Allan Poe \n",
      "Notes from the Underground by Fyodor Dostoyevsky \n",
      "Thus Spake Zarathustra\n",
      "Dubliners by James Joyce \n",
      "Second Treatise of Government by John Locke \n",
      "The Interesting Narrative of the Life of Olaudah Equiano\n",
      "A Study in Scarlet by Arthur Conan Doyle \n",
      "Winnie\n",
      "The Confessions of St\n",
      "The War of the Worlds by H\n",
      "Gulliver\n",
      "An Index of The Divine Comedy by Dante by Dante Alighieri \n",
      "Oliver Twist by Charles Dickens \n",
      "The Eyes Have It by Philip K\n",
      "The Secret Garden by Frances Hodgson Burnett \n",
      "The Awakening\n",
      "A Pickle for the Knowing Ones by Timothy Dexter \n",
      "The American Diary of a Japanese Girl by Yon\n",
      "The Hound of the Baskervilles by Arthur Conan Doyle \n",
      "The Age of Innocence by Edith Wharton \n",
      "Songs of Innocence and of Experience by William Blake \n",
      "Sam in the Suburbs by P\n",
      "The Jungle Book by Rudyard Kipling \n",
      "The Jungle by Upton Sinclair \n",
      "The Jungle by Upton Sinclair \n",
      "Pride and Prejudice by Jane Austen \n",
      "Frankenstein\n",
      "The Adventures of Sherlock Holmes by Arthur Conan Doyle \n",
      "Alice\n",
      "The Great Gatsby by F\n",
      "Moby Dick\n",
      "Ulysses by James Joyce \n",
      "The Picture of Dorian Gray by Oscar Wilde \n",
      "A Tale of Two Cities by Charles Dickens \n",
      "Dracula by Bram Stoker \n",
      "Grimms\n",
      "The Prince by Niccol\n",
      "A Cyclop\n",
      "The Yellow Wallpaper by Charlotte Perkins Gilman \n",
      "Little Foxes by Harriet Beecher Stowe \n",
      "Heart of Darkness by Joseph Conrad \n",
      "John Solomon\n",
      "Great Expectations by Charles Dickens \n",
      "Jane Eyre\n",
      "Crime and Punishment by Fyodor Dostoyevsky \n",
      "A Modest Proposal by Jonathan Swift \n",
      "Metamorphosis by Franz Kafka \n",
      "A Doll\n",
      "Fame and Fortune Weekly\n",
      "That\n",
      "Adventures of Huckleberry Finn by Mark Twain \n",
      "The Scarlet Letter by Nathaniel Hawthorne \n",
      "The Iliad by Homer \n",
      "The Strange Case of Dr\n",
      "A Christmas Carol in Prose\n",
      "The Count of Monte Cristo\n",
      "War and Peace by graf Leo Tolstoy \n",
      "The Worst Joke in the World by Elisabeth Sanxay Holding \n",
      "Little Women by Louisa May Alcott \n",
      "Anne of Green Gables by L\n",
      "The Souls of Black Folk by W\n",
      "The Brothers Karamazov by Fyodor Dostoyevsky \n",
      "White Mountain Trails\n",
      "The Importance of Being Earnest\n",
      "Walden\n",
      "A Very Naughty Girl by L\n",
      "Puella mea by E\n",
      "Jackson\n",
      "Tractatus Logico\n",
      "Leviathan by Thomas Hobbes \n",
      "The Romance of Lust\n",
      "Josefine Mutzenbacher by Felix Salten \n",
      "On the Origin of Species By Means of Natural Selection by Charles Darwin \n",
      "The Wonderful Wizard of Oz by L\n",
      "The Prophet by Kahlil Gibran \n",
      "Les Mis\n",
      "Treasure Island by Robert Louis Stevenson \n",
      "Japanese Girls and Women by Alice Mabel Bacon \n",
      "Anna Karenina by graf Leo Tolstoy \n",
      "The Odyssey by Homer \n",
      "Around the World in Eighty Days by Jules Verne \n",
      "The Adventures of Tom Sawyer\n",
      "Sense and Sensibility by Jane Austen \n",
      "Beyond Good and Evil by Friedrich Wilhelm Nietzsche \n",
      "Peter Pan by J\n",
      "Essays of Michel de Montaigne \n",
      "The Life and Adventures of Robinson Crusoe by Daniel Defoe \n",
      "Don Quixote by Miguel de Cervantes Saavedra \n",
      "The Legend of Sleepy Hollow by Washington Irving \n",
      "The Time Machine by H\n",
      "Uncle Tom\n",
      "Narrative of the Life of Frederick Douglass\n",
      "Simple Sabotage Field Manual by United States\n",
      "The Mysterious Affair at Styles by Agatha Christie \n",
      "Autobiography of Benjamin Franklin by Benjamin Franklin \n",
      "A Preliminary Dissertation on the Mechanisms of the Heavens by Mary Somerville \n",
      "Emma by Jane Austen \n",
      "The Republic by Plato \n",
      "Wuthering Heights by Emily Bront\n",
      "The Kama Sutra of Vatsyayana by Vatsyayana \n",
      "The Works of Edgar Allan Poe \n",
      "Notes from the Underground by Fyodor Dostoyevsky \n",
      "Thus Spake Zarathustra\n",
      "Dubliners by James Joyce \n",
      "Second Treatise of Government by John Locke \n",
      "The Interesting Narrative of the Life of Olaudah Equiano\n",
      "A Study in Scarlet by Arthur Conan Doyle \n",
      "Winnie\n",
      "The Confessions of St\n",
      "The War of the Worlds by H\n",
      "Gulliver\n",
      "An Index of The Divine Comedy by Dante by Dante Alighieri \n",
      "Oliver Twist by Charles Dickens \n",
      "The Eyes Have It by Philip K\n",
      "The Secret Garden by Frances Hodgson Burnett \n",
      "The Awakening\n",
      "A Pickle for the Knowing Ones by Timothy Dexter \n",
      "The American Diary of a Japanese Girl by Yon\n",
      "The Hound of the Baskervilles by Arthur Conan Doyle \n",
      "The Age of Innocence by Edith Wharton \n",
      "Songs of Innocence and of Experience by William Blake \n",
      "Sam in the Suburbs by P\n",
      "The Jungle Book by Rudyard Kipling \n",
      "The Jungle by Upton Sinclair \n",
      "The Jungle by Upton Sinclair \n",
      "Pride and Prejudice by Jane Austen \n",
      "Frankenstein\n",
      "The Adventures of Sherlock Holmes by Arthur Conan Doyle \n",
      "Alice\n",
      "The Great Gatsby by F\n",
      "Moby Dick\n",
      "Ulysses by James Joyce \n",
      "The Picture of Dorian Gray by Oscar Wilde \n",
      "A Tale of Two Cities by Charles Dickens \n",
      "Dracula by Bram Stoker \n",
      "Grimms\n",
      "The Prince by Niccol\n",
      "A Cyclop\n",
      "The Yellow Wallpaper by Charlotte Perkins Gilman \n",
      "Little Foxes by Harriet Beecher Stowe \n",
      "Heart of Darkness by Joseph Conrad \n",
      "John Solomon\n",
      "Great Expectations by Charles Dickens \n",
      "Jane Eyre\n",
      "Crime and Punishment by Fyodor Dostoyevsky \n",
      "A Modest Proposal by Jonathan Swift \n",
      "Metamorphosis by Franz Kafka \n",
      "A Doll\n",
      "Fame and Fortune Weekly\n",
      "That\n",
      "Adventures of Huckleberry Finn by Mark Twain \n",
      "The Scarlet Letter by Nathaniel Hawthorne \n",
      "The Iliad by Homer \n",
      "The Strange Case of Dr\n",
      "A Christmas Carol in Prose\n",
      "The Count of Monte Cristo\n",
      "War and Peace by graf Leo Tolstoy \n",
      "The Worst Joke in the World by Elisabeth Sanxay Holding \n",
      "Little Women by Louisa May Alcott \n",
      "Anne of Green Gables by L\n",
      "The Souls of Black Folk by W\n",
      "The Brothers Karamazov by Fyodor Dostoyevsky \n",
      "White Mountain Trails\n",
      "The Importance of Being Earnest\n",
      "Walden\n",
      "A Very Naughty Girl by L\n",
      "Puella mea by E\n",
      "Jackson\n",
      "Tractatus Logico\n",
      "Leviathan by Thomas Hobbes \n",
      "The Romance of Lust\n",
      "Josefine Mutzenbacher by Felix Salten \n",
      "On the Origin of Species By Means of Natural Selection by Charles Darwin \n",
      "The Wonderful Wizard of Oz by L\n",
      "The Prophet by Kahlil Gibran \n",
      "Les Mis\n",
      "Treasure Island by Robert Louis Stevenson \n",
      "Japanese Girls and Women by Alice Mabel Bacon \n",
      "Anna Karenina by graf Leo Tolstoy \n",
      "The Odyssey by Homer \n",
      "Around the World in Eighty Days by Jules Verne \n",
      "The Adventures of Tom Sawyer\n",
      "Sense and Sensibility by Jane Austen \n",
      "Beyond Good and Evil by Friedrich Wilhelm Nietzsche \n",
      "Peter Pan by J\n",
      "Essays of Michel de Montaigne \n",
      "The Life and Adventures of Robinson Crusoe by Daniel Defoe \n",
      "Don Quixote by Miguel de Cervantes Saavedra \n",
      "The Legend of Sleepy Hollow by Washington Irving \n",
      "The Time Machine by H\n",
      "Uncle Tom\n",
      "Narrative of the Life of Frederick Douglass\n",
      "Simple Sabotage Field Manual by United States\n",
      "The Mysterious Affair at Styles by Agatha Christie \n",
      "Autobiography of Benjamin Franklin by Benjamin Franklin \n",
      "A Preliminary Dissertation on the Mechanisms of the Heavens by Mary Somerville \n",
      "Emma by Jane Austen \n",
      "The Republic by Plato \n",
      "Wuthering Heights by Emily Bront\n",
      "The Kama Sutra of Vatsyayana by Vatsyayana \n",
      "The Works of Edgar Allan Poe \n",
      "Notes from the Underground by Fyodor Dostoyevsky \n",
      "Thus Spake Zarathustra\n",
      "Dubliners by James Joyce \n",
      "Second Treatise of Government by John Locke \n",
      "The Interesting Narrative of the Life of Olaudah Equiano\n",
      "A Study in Scarlet by Arthur Conan Doyle \n",
      "Winnie\n",
      "The Confessions of St\n",
      "The War of the Worlds by H\n",
      "Gulliver\n",
      "An Index of The Divine Comedy by Dante by Dante Alighieri \n",
      "Oliver Twist by Charles Dickens \n",
      "The Eyes Have It by Philip K\n",
      "The Secret Garden by Frances Hodgson Burnett \n",
      "The Awakening\n",
      "A Pickle for the Knowing Ones by Timothy Dexter \n",
      "The American Diary of a Japanese Girl by Yon\n",
      "The Hound of the Baskervilles by Arthur Conan Doyle \n",
      "The Age of Innocence by Edith Wharton \n",
      "Songs of Innocence and of Experience by William Blake \n",
      "Sam in the Suburbs by P\n",
      "The Jungle Book by Rudyard Kipling \n",
      "The Jungle by Upton Sinclair \n"
     ]
    }
   ],
   "source": [
    "# Write your code here\n",
    "\n",
    "for i in list_titles_list:\n",
    "    print(i)\n",
    "\n"
   ]
  }
 ],
 "metadata": {
  "kernelspec": {
   "display_name": "Python 3",
   "language": "python",
   "name": "python3"
  },
  "language_info": {
   "codemirror_mode": {
    "name": "ipython",
    "version": 3
   },
   "file_extension": ".py",
   "mimetype": "text/x-python",
   "name": "python",
   "nbconvert_exporter": "python",
   "pygments_lexer": "ipython3",
   "version": "3.8.8"
  },
  "latex_envs": {
   "LaTeX_envs_menu_present": true,
   "autoclose": false,
   "autocomplete": true,
   "bibliofile": "biblio.bib",
   "cite_by": "apalike",
   "current_citInitial": 1,
   "eqLabelWithNumbers": true,
   "eqNumInitial": 1,
   "hotkeys": {
    "equation": "Ctrl-E",
    "itemize": "Ctrl-I"
   },
   "labels_anchors": false,
   "latex_user_defs": false,
   "report_style_numbering": false,
   "user_envs_cfg": false
  }
 },
 "nbformat": 4,
 "nbformat_minor": 2
}
