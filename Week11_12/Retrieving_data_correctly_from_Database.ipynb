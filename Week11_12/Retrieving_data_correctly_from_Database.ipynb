{
 "cells": [
  {
   "cell_type": "markdown",
   "metadata": {},
   "source": [
    "# Felipe Castillo\n",
    "# Data Preparation\n",
    "# SQLite Homework\n",
    "# 03/04/2022"
   ]
  },
  {
   "cell_type": "code",
   "execution_count": 1,
   "metadata": {},
   "outputs": [],
   "source": [
    "### Write your code below this comment\n",
    "import pandas\n",
    "import sqlite3\n",
    "import os \n",
    "os.chdir(\"C:\\DataScience_DSC_540\\Week11_12\")"
   ]
  },
  {
   "cell_type": "markdown",
   "metadata": {},
   "source": [
    "### Task 1: (Connect to the supplied petsDB, and (OPTIONAL) write a function to check if the connection is done)"
   ]
  },
  {
   "cell_type": "code",
   "execution_count": 3,
   "metadata": {},
   "outputs": [],
   "source": [
    "\n",
    "def check_connection(conn):\n",
    "     try:\n",
    "        conn.cursor()\n",
    "        return True\n",
    "     except Exception as ex:\n",
    "        return False\n",
    "\n"
   ]
  },
  {
   "cell_type": "code",
   "execution_count": 4,
   "metadata": {},
   "outputs": [
    {
     "name": "stdout",
     "output_type": "stream",
     "text": [
      "True\n"
     ]
    }
   ],
   "source": [
    "conn = sqlite3.connect('petsdb')\n",
    "\n",
    "print(check_connection(conn))"
   ]
  },
  {
   "cell_type": "code",
   "execution_count": 5,
   "metadata": {},
   "outputs": [],
   "source": [
    "conn.close()"
   ]
  },
  {
   "cell_type": "code",
   "execution_count": 6,
   "metadata": {},
   "outputs": [
    {
     "name": "stdout",
     "output_type": "stream",
     "text": [
      "False\n"
     ]
    }
   ],
   "source": [
    "print(check_connection(conn))"
   ]
  },
  {
   "cell_type": "markdown",
   "metadata": {},
   "source": [
    "# General information on whats in the data base"
   ]
  },
  {
   "cell_type": "code",
   "execution_count": 75,
   "metadata": {},
   "outputs": [],
   "source": [
    "conn = sqlite3.connect('petsdb')"
   ]
  },
  {
   "cell_type": "code",
   "execution_count": 76,
   "metadata": {},
   "outputs": [],
   "source": [
    "cursor = conn.cursor()"
   ]
  },
  {
   "cell_type": "code",
   "execution_count": 77,
   "metadata": {},
   "outputs": [
    {
     "data": {
      "text/plain": [
       "<sqlite3.Cursor at 0x15eef1f8ea0>"
      ]
     },
     "execution_count": 77,
     "metadata": {},
     "output_type": "execute_result"
    }
   ],
   "source": [
    "cursor.execute(\"SELECT name FROM sqlite_master WHERE type='table';\")"
   ]
  },
  {
   "cell_type": "code",
   "execution_count": 78,
   "metadata": {},
   "outputs": [
    {
     "name": "stdout",
     "output_type": "stream",
     "text": [
      "[('persons',), ('pets',)]\n"
     ]
    }
   ],
   "source": [
    "#two tables inside db\n",
    "print(cursor.fetchall())"
   ]
  },
  {
   "cell_type": "code",
   "execution_count": 79,
   "metadata": {},
   "outputs": [
    {
     "name": "stdout",
     "output_type": "stream",
     "text": [
      "\n",
      "Columns in persons table:\n",
      "id\n",
      "first_name\n",
      "last_name\n",
      "age\n",
      "city\n",
      "zip_code\n"
     ]
    }
   ],
   "source": [
    "# printng list of  person tble \n",
    "print('\\nColumns in persons table:')\n",
    "data=cursor.execute('''SELECT * from persons''')\n",
    "for column in data.description:\n",
    "    print(column[0])\n",
    "    "
   ]
  },
  {
   "cell_type": "code",
   "execution_count": 81,
   "metadata": {},
   "outputs": [
    {
     "name": "stdout",
     "output_type": "stream",
     "text": [
      "\n",
      "---------DATA ROWS IN PERSON-----------:\n"
     ]
    }
   ],
   "source": [
    "#printing persons table\n",
    "print('\\n---------DATA ROWS IN PERSON-----------:')\n",
    "data=cursor.execute('''SELECT * from persons''')\n",
    "#for i in data:\n",
    "    #print(i)\n",
    "    "
   ]
  },
  {
   "cell_type": "code",
   "execution_count": 24,
   "metadata": {},
   "outputs": [
    {
     "name": "stdout",
     "output_type": "stream",
     "text": [
      "\n",
      "Columns in pets table:\n",
      "owner_id\n",
      "pet_name\n",
      "pet_type\n",
      "treatment_done\n"
     ]
    }
   ],
   "source": [
    "#getting list of pet table\n",
    "print('\\nColumns in pets table:')\n",
    "data=cursor.execute('''SELECT * from pets''')\n",
    "for column in data.description:\n",
    "    print(column[0])"
   ]
  },
  {
   "cell_type": "code",
   "execution_count": 82,
   "metadata": {},
   "outputs": [
    {
     "name": "stdout",
     "output_type": "stream",
     "text": [
      "\n",
      "---------DATA ROWS IN Pets-----------:\n"
     ]
    }
   ],
   "source": [
    "#printing pets table\n",
    "print('\\n---------DATA ROWS IN Pets-----------:')\n",
    "data=cursor.execute('''SELECT * from pets''')\n",
    "#for i in data:\n",
    "    #print(i)\n",
    "    "
   ]
  },
  {
   "cell_type": "code",
   "execution_count": 83,
   "metadata": {},
   "outputs": [],
   "source": [
    "#combining tables for refernce by unique key \n",
    "rows = cursor.execute(\"SELECT  * FROM pets inner Join persons on pets.owner_id = persons.id\")\n",
    "\n",
    "#for row in rows:\n",
    "    #print(row)"
   ]
  },
  {
   "cell_type": "markdown",
   "metadata": {},
   "source": [
    "### Task 2: (What are the different age groups in the persons database)"
   ]
  },
  {
   "cell_type": "code",
   "execution_count": 9,
   "metadata": {},
   "outputs": [],
   "source": [
    "#Getting count and age from person and grouping them by age\n",
    "rows = cursor.execute(\"SELECT count(*), age FROM persons GROUP BY age\")"
   ]
  },
  {
   "cell_type": "code",
   "execution_count": 10,
   "metadata": {},
   "outputs": [
    {
     "name": "stdout",
     "output_type": "stream",
     "text": [
      "Count 2 and age 5\n",
      "Count 1 and age 6\n",
      "Count 1 and age 7\n",
      "Count 3 and age 8\n",
      "Count 1 and age 9\n",
      "Count 2 and age 11\n",
      "Count 3 and age 12\n",
      "Count 1 and age 13\n",
      "Count 4 and age 14\n",
      "Count 2 and age 16\n",
      "Count 2 and age 17\n",
      "Count 3 and age 18\n",
      "Count 1 and age 19\n",
      "Count 3 and age 22\n",
      "Count 2 and age 23\n",
      "Count 3 and age 24\n",
      "Count 2 and age 25\n",
      "Count 1 and age 27\n",
      "Count 1 and age 30\n",
      "Count 3 and age 31\n",
      "Count 1 and age 32\n",
      "Count 1 and age 33\n",
      "Count 2 and age 34\n",
      "Count 3 and age 35\n",
      "Count 3 and age 36\n",
      "Count 1 and age 37\n",
      "Count 2 and age 39\n",
      "Count 1 and age 40\n",
      "Count 1 and age 42\n",
      "Count 2 and age 44\n",
      "Count 2 and age 48\n",
      "Count 1 and age 49\n",
      "Count 1 and age 50\n",
      "Count 2 and age 51\n",
      "Count 2 and age 52\n",
      "Count 2 and age 53\n",
      "Count 2 and age 54\n",
      "Count 1 and age 58\n",
      "Count 1 and age 59\n",
      "Count 1 and age 60\n",
      "Count 1 and age 61\n",
      "Count 2 and age 62\n",
      "Count 1 and age 63\n",
      "Count 2 and age 65\n",
      "Count 2 and age 66\n",
      "Count 1 and age 67\n",
      "Count 3 and age 68\n",
      "Count 1 and age 69\n",
      "Count 1 and age 70\n",
      "Count 4 and age 71\n",
      "Count 1 and age 72\n",
      "Count 5 and age 73\n",
      "Count 3 and age 74\n"
     ]
    }
   ],
   "source": [
    "\n",
    "#returns a group of age by tuple\n",
    "#unpacking in count and age\n",
    "for count, age in rows:\n",
    "    print(\"Count {0} and age {1}\".format(count, age))"
   ]
  },
  {
   "cell_type": "markdown",
   "metadata": {},
   "source": [
    "### Task 3: Which age group has maximum number of people?"
   ]
  },
  {
   "cell_type": "code",
   "execution_count": 43,
   "metadata": {},
   "outputs": [
    {
     "name": "stdout",
     "output_type": "stream",
     "text": [
      "(53,)\n"
     ]
    }
   ],
   "source": [
    "#selecting max age from persons grouped age with the total count\n",
    "rows = cursor.execute(\"SELECT count(*) FROM (SELECT max(age) FROM persons GROUP BY age)\")\n",
    "for row in rows:\n",
    "    print(row)"
   ]
  },
  {
   "cell_type": "code",
   "execution_count": 60,
   "metadata": {},
   "outputs": [
    {
     "name": "stdout",
     "output_type": "stream",
     "text": [
      "(73, 5)\n",
      "Highest age group 73 with a total count of 5\n"
     ]
    }
   ],
   "source": [
    "#Selecting age and count from person , selecting the max age with its total count\n",
    "rows = cursor.execute(\"SELECT age, max(age_count) FROM (SELECT age, count(*) as age_count FROM persons GROUP BY age)\")\n",
    "\n",
    "for row in rows:\n",
    "    print(\"Highest age group {} with a total count of {}\".format(row[0], row[1]))\n",
    "    \n"
   ]
  },
  {
   "cell_type": "markdown",
   "metadata": {},
   "source": [
    "### Task 4: How many people do not have a full name (Last name is blank/null)"
   ]
  },
  {
   "cell_type": "code",
   "execution_count": 84,
   "metadata": {},
   "outputs": [
    {
     "name": "stdout",
     "output_type": "stream",
     "text": [
      "(60,)\n"
     ]
    }
   ],
   "source": [
    "### Write your code below this comment\n",
    "#If last name is null selecting apply the count \n",
    "rows = cursor.execute(\"SELECT  count(*) FROM persons WHERE last_name is null\")\n",
    "for row in rows:\n",
    "    print(row)\n"
   ]
  },
  {
   "cell_type": "markdown",
   "metadata": {},
   "source": [
    "### Task 5: How many people has more than one pet? (*)"
   ]
  },
  {
   "cell_type": "code",
   "execution_count": 73,
   "metadata": {},
   "outputs": [
    {
     "name": "stdout",
     "output_type": "stream",
     "text": [
      "Number of people that have more then one dog 43\n"
     ]
    }
   ],
   "source": [
    "### Write your code bellow this comment\n",
    "\n",
    "#selecting the number of owners who have at least one pet, then counting the number \n",
    "\n",
    "rows = cursor.execute(\"SELECT Count(*) FROM (SELECT count(owner_id) as owner_id_count  FROM pets GROUP BY owner_id HAVING owner_id_count > 1)\")\n",
    "\n",
    "for row in rows:\n",
    "    print(\"Number of people that have more then one dog {}\".format(row[0]))\n",
    "\n"
   ]
  },
  {
   "cell_type": "markdown",
   "metadata": {},
   "source": [
    "### Task 6: How many pets have received treaments?\n"
   ]
  },
  {
   "cell_type": "code",
   "execution_count": 12,
   "metadata": {},
   "outputs": [
    {
     "name": "stdout",
     "output_type": "stream",
     "text": [
      "(36,)\n"
     ]
    }
   ],
   "source": [
    "### Write your code below this comment\n",
    "\n",
    "#Getting  by its boolean value of one, then counting \n",
    "rows = cursor.execute(\"SELECT  count(*) FROM pets WHERE treatment_done = 1\")\n",
    "for row in rows:\n",
    "    print(row)\n",
    "\n"
   ]
  },
  {
   "cell_type": "markdown",
   "metadata": {},
   "source": [
    "### Task 7: How many pets have received treatment that we know the type of?"
   ]
  },
  {
   "cell_type": "code",
   "execution_count": 13,
   "metadata": {},
   "outputs": [
    {
     "name": "stdout",
     "output_type": "stream",
     "text": [
      "(16,)\n"
     ]
    }
   ],
   "source": [
    "### Write your code below this comment\n",
    "#same logic adding a pet type == null , set count for amount \n",
    "rows = cursor.execute(\"SELECT  count(*) FROM pets WHERE treatment_done = 1 AND pet_type is not null\")\n",
    "for row in rows:\n",
    "    print(row)\n",
    "\n"
   ]
  },
  {
   "cell_type": "markdown",
   "metadata": {},
   "source": [
    "### Task 8: How many pets are there from the city called \"east port\""
   ]
  },
  {
   "cell_type": "code",
   "execution_count": 34,
   "metadata": {},
   "outputs": [
    {
     "name": "stdout",
     "output_type": "stream",
     "text": [
      "(49,)\n"
     ]
    }
   ],
   "source": [
    "### Write your code below this comment\n",
    "#only table persons has city\n",
    "# Key is pets owns id with person\n",
    "#joining tables by unique key\n",
    "#counting the pets in east port after join \n",
    "\n",
    "rows = cursor.execute(\"SELECT  count(*) FROM pets inner Join persons on pets.owner_id = persons.id where persons.city ='east port'\")\n",
    "for row in rows:\n",
    "    print(row)\n",
    "\n"
   ]
  },
  {
   "cell_type": "markdown",
   "metadata": {},
   "source": [
    "### Task 9: How many pets are there from the city called \"east port\" and who received a treatment?"
   ]
  },
  {
   "cell_type": "code",
   "execution_count": 35,
   "metadata": {},
   "outputs": [
    {
     "name": "stdout",
     "output_type": "stream",
     "text": [
      "(11,)\n"
     ]
    }
   ],
   "source": [
    "### Write your code below this comment\n",
    "#same logic as last table pets has treatment clomn feild with a boolean operator\n",
    "\n",
    "\n",
    "\n",
    "rows = cursor.execute(\"SELECT  count(*) FROM pets inner Join persons on pets.owner_id = persons.id where persons.city ='east port' and  pets.treatment_done = 1\")\n",
    "for row in rows:\n",
    "    print(row)\n",
    "\n"
   ]
  }
 ],
 "metadata": {
  "kernelspec": {
   "display_name": "Python 3",
   "language": "python",
   "name": "python3"
  },
  "language_info": {
   "codemirror_mode": {
    "name": "ipython",
    "version": 3
   },
   "file_extension": ".py",
   "mimetype": "text/x-python",
   "name": "python",
   "nbconvert_exporter": "python",
   "pygments_lexer": "ipython3",
   "version": "3.8.8"
  }
 },
 "nbformat": 4,
 "nbformat_minor": 2
}
